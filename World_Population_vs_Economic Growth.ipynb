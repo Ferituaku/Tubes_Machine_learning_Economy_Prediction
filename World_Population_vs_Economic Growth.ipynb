{
 "cells": [
  {
   "cell_type": "code",
   "execution_count": 5,
   "metadata": {},
   "outputs": [
    {
     "name": "stdout",
     "output_type": "stream",
     "text": [
      "Requirement already satisfied: pandas in c:\\users\\nisaa\\appdata\\local\\programs\\python\\python311\\lib\\site-packages (2.2.3)\n",
      "Requirement already satisfied: numpy>=1.23.2 in c:\\users\\nisaa\\appdata\\local\\programs\\python\\python311\\lib\\site-packages (from pandas) (1.26.2)\n",
      "Requirement already satisfied: python-dateutil>=2.8.2 in c:\\users\\nisaa\\appdata\\local\\programs\\python\\python311\\lib\\site-packages (from pandas) (2.8.2)\n",
      "Requirement already satisfied: pytz>=2020.1 in c:\\users\\nisaa\\appdata\\local\\programs\\python\\python311\\lib\\site-packages (from pandas) (2024.2)\n",
      "Requirement already satisfied: tzdata>=2022.7 in c:\\users\\nisaa\\appdata\\local\\programs\\python\\python311\\lib\\site-packages (from pandas) (2024.2)\n",
      "Requirement already satisfied: six>=1.5 in c:\\users\\nisaa\\appdata\\local\\programs\\python\\python311\\lib\\site-packages (from python-dateutil>=2.8.2->pandas) (1.16.0)\n",
      "         Country  AveragScore  SafetySecurity  PersonelFreedom  Governance  \\\n",
      "0        Denmark        84.55           92.59            94.09       89.45   \n",
      "1         Sweden        83.67           90.97            91.90       86.41   \n",
      "2         Norway        83.59           93.30            94.10       89.66   \n",
      "3        Finland        83.47           89.56            91.96       90.41   \n",
      "4    Switzerland        83.42           95.66            87.50       87.67   \n",
      "\n",
      "   SocialCapital  InvestmentEnvironment  EnterpriseConditions  \\\n",
      "0          82.56                  82.42                 79.64   \n",
      "1          78.29                  82.81                 75.54   \n",
      "2          79.03                  82.24                 75.95   \n",
      "3          77.27                  84.12                 77.25   \n",
      "4          69.14                  80.81                 83.84   \n",
      "\n",
      "   MarketAccessInfrastructure  EconomicQuality  LivingConditions  Health  \\\n",
      "0                       78.79            76.81             95.77   81.07   \n",
      "1                       79.67            76.18             95.33   82.28   \n",
      "2                       75.87            77.25             94.70   82.98   \n",
      "3                       78.77            70.28             94.46   81.19   \n",
      "4                       78.65            79.71             94.66   82.11   \n",
      "\n",
      "   Education  NaturalEnvironment  \n",
      "0      87.48               73.94  \n",
      "1      85.92               78.74  \n",
      "2      85.68               72.37  \n",
      "3      88.38               77.99  \n",
      "4      87.72               73.60  \n"
     ]
    },
    {
     "name": "stderr",
     "output_type": "stream",
     "text": [
      "\n",
      "[notice] A new release of pip is available: 23.3.1 -> 24.3.1\n",
      "[notice] To update, run: python.exe -m pip install --upgrade pip\n"
     ]
    }
   ],
   "source": [
    "!pip install pandas\n",
    "import numpy as np\n",
    "import pandas as pd\n",
    "\n",
    "\n",
    "\n",
    "# Membaca file CSV\n",
    "file_path = \"data.csv\"  # Nama file yang ada di folder yang sama\n",
    "WP = pd.read_csv(file_path)\n",
    "\n",
    "# Menampilkan 5 baris pertama dari dataset\n",
    "print(WP.head())"
   ]
  }
 ],
 "metadata": {
  "kernelspec": {
   "display_name": "Python 3",
   "language": "python",
   "name": "python3"
  },
  "language_info": {
   "codemirror_mode": {
    "name": "ipython",
    "version": 3
   },
   "file_extension": ".py",
   "mimetype": "text/x-python",
   "name": "python",
   "nbconvert_exporter": "python",
   "pygments_lexer": "ipython3",
   "version": "3.11.0"
  }
 },
 "nbformat": 4,
 "nbformat_minor": 2
}
